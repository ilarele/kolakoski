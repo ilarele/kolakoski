{
 "cells": [
  {
   "cell_type": "code",
   "execution_count": 1,
   "metadata": {},
   "outputs": [],
   "source": [
    "%matplotlib inline\n",
    "%reload_ext autoreload\n",
    "%autoreload 2"
   ]
  },
  {
   "cell_type": "code",
   "execution_count": 2,
   "metadata": {},
   "outputs": [],
   "source": [
    "import os\n",
    "import random\n",
    "import numpy as np\n",
    "import itertools\n",
    "\n",
    "import matplotlib.pyplot as plt\n",
    "import seaborn as sns\n",
    "sns.set_style(\"whitegrid\")\n",
    "import matplotlib.ticker as ticker\n"
   ]
  },
  {
   "cell_type": "code",
   "execution_count": 3,
   "metadata": {},
   "outputs": [],
   "source": [
    "def kolakoski_gen(start_items):\n",
    "    c = itertools.cycle(start_items).__next__\n",
    "    s, k = [], 0\n",
    "    while True:\n",
    "        c_next = c()\n",
    "        s.append(c_next)\n",
    "        sk = s[k]\n",
    "        yield sk\n",
    "        if sk > 1:\n",
    "            s += [c_next] * (sk - 1)\n",
    "        k += 1\n",
    "\n",
    "def kolakoski(start_items=(1, 2), length=22):\n",
    "    return list(itertools.islice(kolakoski_gen(start_items), length))\n",
    "\n",
    "def binary_to_uint(seq):\n",
    "    last_uchar = \"\"\n",
    "    bytes_list = []\n",
    "    for t_idx, term in enumerate(seq):\n",
    "#         print(t_idx, t_idx % 8)\n",
    "        last_uchar += str(term-1) \n",
    "        if t_idx % 8 == 7:\n",
    "            next_byte = int(last_uchar, 2)\n",
    "#             print(\"last_uchar\", last_uchar, \"to next_byte\", next_byte)\n",
    "            last_uchar = \"\"\n",
    "            bytes_list.append(next_byte)\n",
    "    return bytes_list\n",
    "\n",
    "def insert_pair(ds_pairs, counts, start_idxs, key, key_value, s_idx):\n",
    "    if key not in ds_pairs.keys():\n",
    "        ds_pairs[key] = [key_value]\n",
    "        counts[key] = [1]\n",
    "        start_idxs[key] = [s_idx]\n",
    "    else:\n",
    "        exists_similar = False\n",
    "        for idx_value, value in enumerate(ds_pairs[key]):\n",
    "            if value == key_value:\n",
    "                counts[key][idx_value] = counts[key][idx_value] + 1\n",
    "                exists_similar = True\n",
    "                break\n",
    "        if not exists_similar:\n",
    "            ds_pairs[key].append(key_value)\n",
    "            counts[key].append(1)\n",
    "\n",
    "def str_to_array(str_key):\n",
    "    return [int(x) for x in str_key.replace(\"[\", \"\").replace(\"]\", \"\").split(\",\")]\n"
   ]
  },
  {
   "cell_type": "code",
   "execution_count": null,
   "metadata": {
    "scrolled": false
   },
   "outputs": [],
   "source": [
    "# check duplicates in train/valid\n",
    "pair_seq_lens = 40\n",
    "results = []\n",
    "\n",
    "pairs = {}\n",
    "counts = {}\n",
    "\n",
    "# generate pairs\n",
    "for s_idx in idxs_train:\n",
    "    e_idx = s_idx + pair_seq_len\n",
    "    insert_pair(pairs, counts, str(bytes_list[s_idx:e_idx]), bytes_list[e_idx])\n",
    "\n",
    "new_key = 0\n",
    "old_key = 0\n",
    "diff_values = 0\n",
    "for s_idx in idxs_valid:\n",
    "    e_idx = s_idx + pair_seq_len\n",
    "    key = str(bytes_list[s_idx:e_idx])\n",
    "    \n",
    "    #  exists?\n",
    "    if key not in pairs.keys():\n",
    "        new_key += 1\n",
    "    else:\n",
    "        if bytes_list[e_idx] not in pairs[key]:\n",
    "            diff_values +=1\n",
    "        old_key += 1\n",
    "#     different_ending?\n",
    "print(\"new keys in valid: \", new_key)\n",
    "print(\"repeating keys in train and valid:\", old_key, \". With different values:\", diff_values)\n",
    "print(\"percent same values: %.2f\" % ((old_key-diff_values)*100/len(idxs_valid)))\n",
    "# kolakoski_len = int(8 * 1e6) => percent same values: 91%\n",
    "# kolakoski_len = int(8 * 1e7) => percent same values: 95%\n",
    "# kolakoski_len = int(8 * 1e8) => percent same values: 100%"
   ]
  },
  {
   "cell_type": "code",
   "execution_count": 10,
   "metadata": {},
   "outputs": [],
   "source": [
    "kolakoski_len = int(8 * 1e8)\n",
    "start_items = (1, 2)\n",
    "\n",
    "# generate sequence\n",
    "full_kola_seq = kolakoski(length=kolakoski_len)\n",
    "bytes_list = binary_to_uint(full_kola_seq)"
   ]
  },
  {
   "cell_type": "code",
   "execution_count": 11,
   "metadata": {},
   "outputs": [
    {
     "name": "stdout",
     "output_type": "stream",
     "text": [
      "Kolakoski seq len: 100000000\n",
      "Number of unique sequences: 308862\n"
     ]
    }
   ],
   "source": [
    "# generate only unique pairs\n",
    "pair_seq_len = 40\n",
    "results = []\n",
    "\n",
    "pairs = {}\n",
    "counts = {}\n",
    "start_idxs = {}\n",
    "\n",
    "# generate pairs\n",
    "for s_idx in range(0, len(bytes_list) - pair_seq_len):\n",
    "    e_idx = s_idx + pair_seq_len\n",
    "    insert_pair(pairs, counts, start_idxs, str(bytes_list[s_idx:e_idx]), bytes_list[e_idx], s_idx)\n",
    "\n",
    "# stats - count pairs\n",
    "n_keys = len(pairs.keys())\n",
    "length_key = list(pairs.keys())[0].count(\", \") + 1\n",
    "\n",
    "print(\"Kolakoski seq len:\", len(bytes_list))\n",
    "print(\"Number of unique sequences:\", n_keys)\n",
    "\n"
   ]
  },
  {
   "cell_type": "code",
   "execution_count": 12,
   "metadata": {},
   "outputs": [],
   "source": [
    "unique_dataset = []\n",
    "\n",
    "for pair_key in pairs.keys():\n",
    "    n_diff_values = len(pairs[pair_key])\n",
    "    if n_diff_values == 1:\n",
    "        s_idx = start_idxs[pair_key]\n",
    "\n",
    "        # take this unique pair\n",
    "        array_key = str_to_array(pair_key)\n",
    "        ds_sample = s_idx + array_key + pairs[pair_key]\n",
    "        unique_dataset.append(ds_sample)\n",
    "unique_dataset_np = np.array(unique_dataset)\n"
   ]
  },
  {
   "cell_type": "code",
   "execution_count": 13,
   "metadata": {},
   "outputs": [],
   "source": [
    "dir_path = \"dataset/1e8_unique\"\n",
    "os.system(\"mkdir -p %s\" % dir_path)\n",
    "\n",
    "# Split train/valid\n",
    "random.seed(42)\n",
    "perm = np.random.permutation(unique_dataset_np.shape[0])\n",
    "train_len = int(len(perm) * 0.8)\n",
    "idxs_train = perm[:train_len]\n",
    "idxs_valid = perm[train_len:]\n",
    "\n",
    "np.save(\"%s/kolakosky.npy\" % dir_path, unique_dataset_np)\n",
    "np.save(\"%s/train_idxs.npy\" % dir_path, idxs_train)\n",
    "np.save(\"%s/valid_idxs.npy\" % dir_path, idxs_valid)"
   ]
  },
  {
   "cell_type": "code",
   "execution_count": 14,
   "metadata": {},
   "outputs": [
    {
     "data": {
      "text/plain": [
       "(290474, 42)"
      ]
     },
     "execution_count": 14,
     "metadata": {},
     "output_type": "execute_result"
    }
   ],
   "source": [
    "unique_dataset_np.shape"
   ]
  },
  {
   "cell_type": "code",
   "execution_count": null,
   "metadata": {},
   "outputs": [],
   "source": []
  }
 ],
 "metadata": {
  "colab": {
   "default_view": {},
   "name": "kolakoski.ipynb",
   "provenance": [],
   "version": "0.3.2",
   "views": {}
  },
  "kernelspec": {
   "display_name": "Python 3",
   "language": "python",
   "name": "python3"
  },
  "language_info": {
   "codemirror_mode": {
    "name": "ipython",
    "version": 3
   },
   "file_extension": ".py",
   "mimetype": "text/x-python",
   "name": "python",
   "nbconvert_exporter": "python",
   "pygments_lexer": "ipython3",
   "version": "3.6.9"
  }
 },
 "nbformat": 4,
 "nbformat_minor": 1
}
